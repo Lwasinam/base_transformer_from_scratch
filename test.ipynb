{
 "cells": [
  {
   "cell_type": "code",
   "execution_count": 1,
   "metadata": {},
   "outputs": [],
   "source": [
    "import torch\n",
    "import torch.nn as nn\n",
    "import math\n",
    "import numpy as np"
   ]
  },
  {
   "cell_type": "code",
   "execution_count": null,
   "metadata": {},
   "outputs": [],
   "source": []
  },
  {
   "cell_type": "code",
   "execution_count": 13,
   "metadata": {},
   "outputs": [
    {
     "name": "stdout",
     "output_type": "stream",
     "text": [
      "\n",
      "\n",
      "\n"
     ]
    }
   ],
   "source": [
    "from tokenizers import Tokenizer\n",
    "from tokenizers.models import BPE\n",
    "from tokenizers.pre_tokenizers import Whitespace\n",
    "from datasets import load_dataset\n",
    "\n",
    "def get_story_in_lang(lang):\n",
    "    ds_raw = load_dataset('opus_books', 'en-it', split = 'train')\n",
    "    for item in ds_raw:\n",
    "        yield item['translation'][lang]\n",
    "\n",
    "\n",
    "\n",
    "tokenizer = Tokenizer(BPE(unk_token=\"[UNK]\"))\n",
    "from tokenizers.trainers import BpeTrainer\n",
    "trainer = BpeTrainer(special_tokens=[\"[UNK]\", \"[SOS]\", \"[EOS]\", \"[PAD]\"])\n",
    "\n",
    "tokenizer.pre_tokenizer = Whitespace()\n",
    "\n",
    "tokenizer.train_from_iterator(get_story_in_lang('en'), trainer = trainer)\n",
    "tokenizer.save(\"tokenizer-wiki.json\")\n"
   ]
  },
  {
   "cell_type": "code",
   "execution_count": 12,
   "metadata": {},
   "outputs": [
    {
     "data": {
      "text/plain": [
       "tensor([1.0000e+00, 2.5119e-02, 6.3096e-04, 1.5849e-05, 3.9811e-07])"
      ]
     },
     "execution_count": 12,
     "metadata": {},
     "output_type": "execute_result"
    }
   ],
   "source": [
    "j = torch.pow(10,  torch.arange(0,5)*-4/512)\n",
    "j"
   ]
  },
  {
   "cell_type": "code",
   "execution_count": 9,
   "metadata": {},
   "outputs": [
    {
     "data": {
      "text/plain": [
       "tensor([[[0.9647, 0.9647, 0.9647, 0.9647],\n",
       "         [0.9306, 0.9306, 0.9306, 0.9306],\n",
       "         [0.8977, 0.8977, 0.8977, 0.8977],\n",
       "         [0.8660, 0.8660, 0.8660, 0.8660],\n",
       "         [0.8354, 0.8354, 0.8354, 0.8354]],\n",
       "\n",
       "        [[0.9647, 0.9647, 0.9647, 0.9647],\n",
       "         [0.9306, 0.9306, 0.9306, 0.9306],\n",
       "         [0.8977, 0.8977, 0.8977, 0.8977],\n",
       "         [0.8660, 0.8660, 0.8660, 0.8660],\n",
       "         [0.8354, 0.8354, 0.8354, 0.8354]]])"
      ]
     },
     "execution_count": 9,
     "metadata": {},
     "output_type": "execute_result"
    }
   ],
   "source": [
    "pe = torch.ones(2, 5,4)\n",
    "\n",
    "\n",
    "pe[: ,:] / (10000**((2*torch.arange(1, 6).unsqueeze(1)/512)))\n"
   ]
  },
  {
   "cell_type": "code",
   "execution_count": 13,
   "metadata": {},
   "outputs": [
    {
     "data": {
      "text/plain": [
       "tensor([1.0000e+00, 2.5119e-02, 6.3096e-04])"
      ]
     },
     "execution_count": 13,
     "metadata": {},
     "output_type": "execute_result"
    }
   ],
   "source": [
    "div_term = torch.exp(torch.arange(0, 5, 2) * -(np.log(10000.0) / 5))\n",
    "div_term"
   ]
  },
  {
   "cell_type": "code",
   "execution_count": 5,
   "metadata": {},
   "outputs": [
    {
     "data": {
      "text/plain": [
       "tensor([0, 2, 4])"
      ]
     },
     "execution_count": 5,
     "metadata": {},
     "output_type": "execute_result"
    }
   ],
   "source": [
    "torch.arange(0, 5, 2) "
   ]
  },
  {
   "cell_type": "code",
   "execution_count": 2,
   "metadata": {},
   "outputs": [
    {
     "data": {
      "text/plain": [
       "tensor([[0],\n",
       "        [1],\n",
       "        [2],\n",
       "        [3],\n",
       "        [4]])"
      ]
     },
     "execution_count": 2,
     "metadata": {},
     "output_type": "execute_result"
    }
   ],
   "source": [
    "l  = torch.arange(5).unsqueeze(1)\n",
    "l"
   ]
  },
  {
   "cell_type": "code",
   "execution_count": 15,
   "metadata": {},
   "outputs": [
    {
     "data": {
      "text/plain": [
       "tensor([1.0000e+00, 2.1544e-03, 4.6416e-06])"
      ]
     },
     "execution_count": 15,
     "metadata": {},
     "output_type": "execute_result"
    }
   ],
   "source": [
    "div_term = torch.exp(torch.arange(0, 6, 2) * -(math.log(10000.0) / 3))\n",
    "div_term\n"
   ]
  },
  {
   "cell_type": "code",
   "execution_count": 29,
   "metadata": {},
   "outputs": [
    {
     "data": {
      "text/plain": [
       "tensor([[1., 1., 1., 1., 1., 1.],\n",
       "        [1., 1., 1., 1., 1., 1.],\n",
       "        [1., 1., 1., 1., 1., 1.],\n",
       "        [1., 1., 1., 1., 1., 1.],\n",
       "        [1., 1., 1., 1., 1., 1.]])"
      ]
     },
     "execution_count": 29,
     "metadata": {},
     "output_type": "execute_result"
    }
   ],
   "source": [
    "pe = torch.ones(5,6)\n",
    "pe"
   ]
  },
  {
   "cell_type": "code",
   "execution_count": 30,
   "metadata": {},
   "outputs": [],
   "source": [
    "pe[:,0::2] = torch.sin(l/div_term)\n",
    "pe[:, 1::2] = torch.cos(l/div_term)"
   ]
  },
  {
   "cell_type": "code",
   "execution_count": 31,
   "metadata": {},
   "outputs": [
    {
     "data": {
      "text/plain": [
       "tensor([[ 0.0000,  1.0000,  0.0000,  1.0000,  0.0000,  1.0000],\n",
       "        [ 0.8415,  0.5403, -0.7151,  0.6990, -0.6469,  0.7626],\n",
       "        [ 0.9093, -0.4161, -0.9997, -0.0229, -0.9866,  0.1631],\n",
       "        [ 0.1411, -0.9900, -0.6824, -0.7310, -0.8579, -0.5139],\n",
       "        [-0.7568, -0.6536,  0.0457, -0.9990, -0.3218, -0.9468]])"
      ]
     },
     "execution_count": 31,
     "metadata": {},
     "output_type": "execute_result"
    }
   ],
   "source": [
    "pe"
   ]
  },
  {
   "cell_type": "code",
   "execution_count": 9,
   "metadata": {},
   "outputs": [
    {
     "name": "stdout",
     "output_type": "stream",
     "text": [
      "tensor([ 4.,  9., 16.])\n"
     ]
    }
   ],
   "source": [
    "pe = pe[:,0::2] * div_term"
   ]
  },
  {
   "cell_type": "code",
   "execution_count": 32,
   "metadata": {},
   "outputs": [
    {
     "data": {
      "text/plain": [
       "tensor([[[1., 1., 1.],\n",
       "         [1., 1., 1.],\n",
       "         [1., 1., 1.],\n",
       "         [1., 1., 1.],\n",
       "         [1., 1., 1.]],\n",
       "\n",
       "        [[1., 1., 1.],\n",
       "         [1., 1., 1.],\n",
       "         [1., 1., 1.],\n",
       "         [1., 1., 1.],\n",
       "         [1., 1., 1.]],\n",
       "\n",
       "        [[1., 1., 1.],\n",
       "         [1., 1., 1.],\n",
       "         [1., 1., 1.],\n",
       "         [1., 1., 1.],\n",
       "         [1., 1., 1.]]])"
      ]
     },
     "execution_count": 32,
     "metadata": {},
     "output_type": "execute_result"
    }
   ],
   "source": [
    "x =  torch.ones(3, 5,3)\n",
    "x"
   ]
  },
  {
   "cell_type": "code",
   "execution_count": 26,
   "metadata": {},
   "outputs": [
    {
     "data": {
      "text/plain": [
       "tensor([[1., 1., 1., 1., 1.]])"
      ]
     },
     "execution_count": 26,
     "metadata": {},
     "output_type": "execute_result"
    }
   ],
   "source": [
    "y = torch.ones(1, 5)\n",
    "y"
   ]
  },
  {
   "cell_type": "code",
   "execution_count": 45,
   "metadata": {},
   "outputs": [
    {
     "name": "stdout",
     "output_type": "stream",
     "text": [
      "4\n",
      "(tensor([[0, 1],\n",
      "        [4, 5],\n",
      "        [8, 9]]), tensor([[ 2,  3],\n",
      "        [ 6,  7],\n",
      "        [10, 11]]))\n"
     ]
    }
   ],
   "source": [
    "import torch\n",
    "\n",
    "# Create a tensor\n",
    "tensor = torch.arange(12).reshape(3, 4)  # Example tensor of shape (3, 4)\n",
    "\n",
    "# Define the number of parts (n)\n",
    "n = 2\n",
    "\n",
    "\n",
    "print(tensor.size(1))\n",
    "# Calculate the number of columns per part\n",
    "columns_per_part = tensor.size(1) // n\n",
    "\n",
    "# Split the tensor into n parts horizontally\n",
    "parts = torch.split(tensor, columns_per_part, dim=1)\n",
    "\n",
    "print(parts)\n",
    "\n",
    "\n",
    "\n",
    "\n",
    "\n",
    "\n",
    "\n"
   ]
  },
  {
   "cell_type": "code",
   "execution_count": 14,
   "metadata": {},
   "outputs": [
    {
     "data": {
      "text/plain": [
       "tensor([[1, 2, 3],\n",
       "        [4, 5, 6],\n",
       "        [7, 8, 9]])"
      ]
     },
     "execution_count": 14,
     "metadata": {},
     "output_type": "execute_result"
    }
   ],
   "source": [
    "original_tensor = torch.tensor([[1, 2, 3], [4, 5, 6], [7,8,9]])\n",
    "original_tensor"
   ]
  },
  {
   "cell_type": "code",
   "execution_count": 21,
   "metadata": {},
   "outputs": [
    {
     "ename": "RuntimeError",
     "evalue": "shape '[1, 6]' is invalid for input of size 9",
     "output_type": "error",
     "traceback": [
      "\u001b[0;31m---------------------------------------------------------------------------\u001b[0m",
      "\u001b[0;31mRuntimeError\u001b[0m                              Traceback (most recent call last)",
      "Cell \u001b[0;32mIn[21], line 1\u001b[0m\n\u001b[0;32m----> 1\u001b[0m reshaped_tensor \u001b[39m=\u001b[39m original_tensor\u001b[39m.\u001b[39;49mview(\u001b[39m1\u001b[39;49m, \u001b[39m6\u001b[39;49m)\n\u001b[1;32m      2\u001b[0m reshaped_tensor\n",
      "\u001b[0;31mRuntimeError\u001b[0m: shape '[1, 6]' is invalid for input of size 9"
     ]
    }
   ],
   "source": [
    "reshaped_tensor = original_tensor.view(1, 6)\n",
    "reshaped_tensor"
   ]
  },
  {
   "cell_type": "code",
   "execution_count": 3,
   "metadata": {},
   "outputs": [],
   "source": [
    "# Assuming you have a tensor with 8 columns\n",
    "original_tensor = torch.randn((4,3,12))  # 10 rows, 8 columns\n",
    "\n",
    "# Reshape into two tensors with 4 columns each\n",
    "# tensor1 = original_tensor.view(10, 4)\n",
    "# tensor2 = original_tensor.view(10, 4, 4)"
   ]
  },
  {
   "cell_type": "code",
   "execution_count": 4,
   "metadata": {},
   "outputs": [
    {
     "data": {
      "text/plain": [
       "tensor([[[ 0.1594, -0.0982,  0.1846, -1.8004, -0.0822, -0.3025, -0.7025,\n",
       "           0.0107, -0.0184, -2.0366,  0.6708,  0.3827],\n",
       "         [-0.3038, -0.9654,  1.2087,  0.3216,  0.3969, -1.9447, -1.4017,\n",
       "          -0.0270,  0.7832,  1.1486, -1.7278, -0.8070],\n",
       "         [ 0.2152, -1.5515, -0.7535,  0.6273, -1.0386, -1.2060, -1.0963,\n",
       "           0.8710, -1.8924,  1.0543, -0.2662, -0.1385]],\n",
       "\n",
       "        [[-0.2147,  1.0707, -0.3061,  0.2757,  0.8054,  1.5964, -0.8827,\n",
       "           0.9234,  0.2430, -0.9465, -1.1662, -0.6612],\n",
       "         [-0.4192, -0.9518,  0.2493,  0.6738,  1.3270, -0.8107, -0.9641,\n",
       "          -0.8406,  0.3892,  1.1731, -0.2494, -0.0136],\n",
       "         [ 0.0329,  2.2602, -0.4044, -0.0454,  0.6857,  0.1848, -0.3324,\n",
       "           2.0475,  1.8617, -2.8065,  0.2292, -0.6965]],\n",
       "\n",
       "        [[ 1.6476, -0.7981, -0.5466,  0.1786,  0.5443,  0.2805, -1.6224,\n",
       "          -0.0587,  1.5927,  0.5001, -0.7675, -0.5726],\n",
       "         [-1.1786,  0.0734, -0.7836,  0.8479, -0.0098, -0.8698,  0.0315,\n",
       "           0.3066,  1.1750, -0.2776,  0.0173,  0.6780],\n",
       "         [ 0.0034,  1.0733,  0.8035,  1.0578, -0.0915, -1.9115,  1.3903,\n",
       "           0.4545, -0.0276,  0.2551,  0.1155, -0.2817]],\n",
       "\n",
       "        [[ 1.5233, -0.6990,  1.1735, -0.7185,  0.2121,  0.1244,  0.2724,\n",
       "          -0.0253, -0.4274, -0.6673,  2.5089, -1.1757],\n",
       "         [ 1.8359, -1.2046, -0.2571, -0.9682,  0.2089, -1.6394, -0.0541,\n",
       "          -2.5676,  0.6950,  0.6406, -0.5211, -0.0211],\n",
       "         [-1.2066, -2.3541, -0.3315,  0.0609, -1.2026,  0.5614, -0.1165,\n",
       "           0.0745,  2.5648,  0.4311, -0.5237,  0.0466]]])"
      ]
     },
     "execution_count": 4,
     "metadata": {},
     "output_type": "execute_result"
    }
   ],
   "source": [
    "original_tensor"
   ]
  },
  {
   "cell_type": "code",
   "execution_count": 5,
   "metadata": {},
   "outputs": [
    {
     "data": {
      "text/plain": [
       "tensor([[[[ 0.1594, -0.0982,  0.1846],\n",
       "          [-1.8004, -0.0822, -0.3025],\n",
       "          [-0.7025,  0.0107, -0.0184],\n",
       "          [-2.0366,  0.6708,  0.3827]],\n",
       "\n",
       "         [[-0.3038, -0.9654,  1.2087],\n",
       "          [ 0.3216,  0.3969, -1.9447],\n",
       "          [-1.4017, -0.0270,  0.7832],\n",
       "          [ 1.1486, -1.7278, -0.8070]],\n",
       "\n",
       "         [[ 0.2152, -1.5515, -0.7535],\n",
       "          [ 0.6273, -1.0386, -1.2060],\n",
       "          [-1.0963,  0.8710, -1.8924],\n",
       "          [ 1.0543, -0.2662, -0.1385]]],\n",
       "\n",
       "\n",
       "        [[[-0.2147,  1.0707, -0.3061],\n",
       "          [ 0.2757,  0.8054,  1.5964],\n",
       "          [-0.8827,  0.9234,  0.2430],\n",
       "          [-0.9465, -1.1662, -0.6612]],\n",
       "\n",
       "         [[-0.4192, -0.9518,  0.2493],\n",
       "          [ 0.6738,  1.3270, -0.8107],\n",
       "          [-0.9641, -0.8406,  0.3892],\n",
       "          [ 1.1731, -0.2494, -0.0136]],\n",
       "\n",
       "         [[ 0.0329,  2.2602, -0.4044],\n",
       "          [-0.0454,  0.6857,  0.1848],\n",
       "          [-0.3324,  2.0475,  1.8617],\n",
       "          [-2.8065,  0.2292, -0.6965]]],\n",
       "\n",
       "\n",
       "        [[[ 1.6476, -0.7981, -0.5466],\n",
       "          [ 0.1786,  0.5443,  0.2805],\n",
       "          [-1.6224, -0.0587,  1.5927],\n",
       "          [ 0.5001, -0.7675, -0.5726]],\n",
       "\n",
       "         [[-1.1786,  0.0734, -0.7836],\n",
       "          [ 0.8479, -0.0098, -0.8698],\n",
       "          [ 0.0315,  0.3066,  1.1750],\n",
       "          [-0.2776,  0.0173,  0.6780]],\n",
       "\n",
       "         [[ 0.0034,  1.0733,  0.8035],\n",
       "          [ 1.0578, -0.0915, -1.9115],\n",
       "          [ 1.3903,  0.4545, -0.0276],\n",
       "          [ 0.2551,  0.1155, -0.2817]]],\n",
       "\n",
       "\n",
       "        [[[ 1.5233, -0.6990,  1.1735],\n",
       "          [-0.7185,  0.2121,  0.1244],\n",
       "          [ 0.2724, -0.0253, -0.4274],\n",
       "          [-0.6673,  2.5089, -1.1757]],\n",
       "\n",
       "         [[ 1.8359, -1.2046, -0.2571],\n",
       "          [-0.9682,  0.2089, -1.6394],\n",
       "          [-0.0541, -2.5676,  0.6950],\n",
       "          [ 0.6406, -0.5211, -0.0211]],\n",
       "\n",
       "         [[-1.2066, -2.3541, -0.3315],\n",
       "          [ 0.0609, -1.2026,  0.5614],\n",
       "          [-0.1165,  0.0745,  2.5648],\n",
       "          [ 0.4311, -0.5237,  0.0466]]]])"
      ]
     },
     "execution_count": 5,
     "metadata": {},
     "output_type": "execute_result"
    }
   ],
   "source": [
    "#this sapes the tensor into (batch, num_heads, seq_len, d_k)\n",
    "# 4,4,3,3\n",
    "j = original_tensor.view(4, 3,4, 3)\n",
    "j"
   ]
  },
  {
   "cell_type": "code",
   "execution_count": 6,
   "metadata": {},
   "outputs": [
    {
     "data": {
      "text/plain": [
       "tensor([[[[ 0.1594, -0.0982,  0.1846],\n",
       "          [-0.3038, -0.9654,  1.2087],\n",
       "          [ 0.2152, -1.5515, -0.7535]],\n",
       "\n",
       "         [[-1.8004, -0.0822, -0.3025],\n",
       "          [ 0.3216,  0.3969, -1.9447],\n",
       "          [ 0.6273, -1.0386, -1.2060]],\n",
       "\n",
       "         [[-0.7025,  0.0107, -0.0184],\n",
       "          [-1.4017, -0.0270,  0.7832],\n",
       "          [-1.0963,  0.8710, -1.8924]],\n",
       "\n",
       "         [[-2.0366,  0.6708,  0.3827],\n",
       "          [ 1.1486, -1.7278, -0.8070],\n",
       "          [ 1.0543, -0.2662, -0.1385]]],\n",
       "\n",
       "\n",
       "        [[[-0.2147,  1.0707, -0.3061],\n",
       "          [-0.4192, -0.9518,  0.2493],\n",
       "          [ 0.0329,  2.2602, -0.4044]],\n",
       "\n",
       "         [[ 0.2757,  0.8054,  1.5964],\n",
       "          [ 0.6738,  1.3270, -0.8107],\n",
       "          [-0.0454,  0.6857,  0.1848]],\n",
       "\n",
       "         [[-0.8827,  0.9234,  0.2430],\n",
       "          [-0.9641, -0.8406,  0.3892],\n",
       "          [-0.3324,  2.0475,  1.8617]],\n",
       "\n",
       "         [[-0.9465, -1.1662, -0.6612],\n",
       "          [ 1.1731, -0.2494, -0.0136],\n",
       "          [-2.8065,  0.2292, -0.6965]]],\n",
       "\n",
       "\n",
       "        [[[ 1.6476, -0.7981, -0.5466],\n",
       "          [-1.1786,  0.0734, -0.7836],\n",
       "          [ 0.0034,  1.0733,  0.8035]],\n",
       "\n",
       "         [[ 0.1786,  0.5443,  0.2805],\n",
       "          [ 0.8479, -0.0098, -0.8698],\n",
       "          [ 1.0578, -0.0915, -1.9115]],\n",
       "\n",
       "         [[-1.6224, -0.0587,  1.5927],\n",
       "          [ 0.0315,  0.3066,  1.1750],\n",
       "          [ 1.3903,  0.4545, -0.0276]],\n",
       "\n",
       "         [[ 0.5001, -0.7675, -0.5726],\n",
       "          [-0.2776,  0.0173,  0.6780],\n",
       "          [ 0.2551,  0.1155, -0.2817]]],\n",
       "\n",
       "\n",
       "        [[[ 1.5233, -0.6990,  1.1735],\n",
       "          [ 1.8359, -1.2046, -0.2571],\n",
       "          [-1.2066, -2.3541, -0.3315]],\n",
       "\n",
       "         [[-0.7185,  0.2121,  0.1244],\n",
       "          [-0.9682,  0.2089, -1.6394],\n",
       "          [ 0.0609, -1.2026,  0.5614]],\n",
       "\n",
       "         [[ 0.2724, -0.0253, -0.4274],\n",
       "          [-0.0541, -2.5676,  0.6950],\n",
       "          [-0.1165,  0.0745,  2.5648]],\n",
       "\n",
       "         [[-0.6673,  2.5089, -1.1757],\n",
       "          [ 0.6406, -0.5211, -0.0211],\n",
       "          [ 0.4311, -0.5237,  0.0466]]]])"
      ]
     },
     "execution_count": 6,
     "metadata": {},
     "output_type": "execute_result"
    }
   ],
   "source": [
    "j = original_tensor.view(4, 3,4, 3).transpose(2,1)\n",
    "j"
   ]
  },
  {
   "cell_type": "code",
   "execution_count": 7,
   "metadata": {},
   "outputs": [
    {
     "data": {
      "text/plain": [
       "tensor([[[ 0.1594, -0.0982,  0.1846, -1.8004, -0.0822, -0.3025, -0.7025,\n",
       "           0.0107, -0.0184, -2.0366,  0.6708,  0.3827],\n",
       "         [-0.3038, -0.9654,  1.2087,  0.3216,  0.3969, -1.9447, -1.4017,\n",
       "          -0.0270,  0.7832,  1.1486, -1.7278, -0.8070],\n",
       "         [ 0.2152, -1.5515, -0.7535,  0.6273, -1.0386, -1.2060, -1.0963,\n",
       "           0.8710, -1.8924,  1.0543, -0.2662, -0.1385]],\n",
       "\n",
       "        [[-0.2147,  1.0707, -0.3061,  0.2757,  0.8054,  1.5964, -0.8827,\n",
       "           0.9234,  0.2430, -0.9465, -1.1662, -0.6612],\n",
       "         [-0.4192, -0.9518,  0.2493,  0.6738,  1.3270, -0.8107, -0.9641,\n",
       "          -0.8406,  0.3892,  1.1731, -0.2494, -0.0136],\n",
       "         [ 0.0329,  2.2602, -0.4044, -0.0454,  0.6857,  0.1848, -0.3324,\n",
       "           2.0475,  1.8617, -2.8065,  0.2292, -0.6965]],\n",
       "\n",
       "        [[ 1.6476, -0.7981, -0.5466,  0.1786,  0.5443,  0.2805, -1.6224,\n",
       "          -0.0587,  1.5927,  0.5001, -0.7675, -0.5726],\n",
       "         [-1.1786,  0.0734, -0.7836,  0.8479, -0.0098, -0.8698,  0.0315,\n",
       "           0.3066,  1.1750, -0.2776,  0.0173,  0.6780],\n",
       "         [ 0.0034,  1.0733,  0.8035,  1.0578, -0.0915, -1.9115,  1.3903,\n",
       "           0.4545, -0.0276,  0.2551,  0.1155, -0.2817]],\n",
       "\n",
       "        [[ 1.5233, -0.6990,  1.1735, -0.7185,  0.2121,  0.1244,  0.2724,\n",
       "          -0.0253, -0.4274, -0.6673,  2.5089, -1.1757],\n",
       "         [ 1.8359, -1.2046, -0.2571, -0.9682,  0.2089, -1.6394, -0.0541,\n",
       "          -2.5676,  0.6950,  0.6406, -0.5211, -0.0211],\n",
       "         [-1.2066, -2.3541, -0.3315,  0.0609, -1.2026,  0.5614, -0.1165,\n",
       "           0.0745,  2.5648,  0.4311, -0.5237,  0.0466]]])"
      ]
     },
     "execution_count": 7,
     "metadata": {},
     "output_type": "execute_result"
    }
   ],
   "source": [
    "j.transpose(2,1).view(j.shape[0], j.shape[2], 12)"
   ]
  },
  {
   "cell_type": "code",
   "execution_count": 2,
   "metadata": {},
   "outputs": [
    {
     "data": {
      "text/plain": [
       "tensor([[ 1.0987, -0.9672],\n",
       "        [-0.8051,  1.3027],\n",
       "        [-0.7114,  0.5448]])"
      ]
     },
     "execution_count": 2,
     "metadata": {},
     "output_type": "execute_result"
    }
   ],
   "source": [
    "aj = torch.randn(3,2)\n",
    "aj"
   ]
  },
  {
   "cell_type": "code",
   "execution_count": 4,
   "metadata": {},
   "outputs": [
    {
     "data": {
      "text/plain": [
       "tensor([[ 0.0657],\n",
       "        [ 0.2488],\n",
       "        [-0.0833]])"
      ]
     },
     "execution_count": 4,
     "metadata": {},
     "output_type": "execute_result"
    }
   ],
   "source": [
    "jk =torch.mean(aj, dim=1)\n",
    "jk.unsqueeze(1)"
   ]
  },
  {
   "cell_type": "code",
   "execution_count": 17,
   "metadata": {},
   "outputs": [],
   "source": [
    "input_tensor = torch.tensor([[1, 2, 3],\n",
    "                             [4, 0, 0],\n",
    "                             [5, 6, 0]])"
   ]
  },
  {
   "cell_type": "code",
   "execution_count": 24,
   "metadata": {},
   "outputs": [
    {
     "name": "stdout",
     "output_type": "stream",
     "text": [
      "tensor([[1, 1, 0],\n",
      "        [1, 1, 1],\n",
      "        [1, 1, 1]], dtype=torch.int32)\n",
      "tensor([[1, 2, 0],\n",
      "        [4, 0, 0],\n",
      "        [5, 6, 0]])\n"
     ]
    }
   ],
   "source": [
    "# Define the padding value\n",
    "padding_value = 3\n",
    "\n",
    "# Create the padding mask\n",
    "padding_mask = (input_tensor != padding_value).int()\n",
    "print(padding_mask)\n",
    "\n",
    "masked_tensor = input_tensor * padding_mask\n",
    "\n",
    "print(masked_tensor)\n",
    "\n",
    "\n",
    "\n",
    "\n",
    "\n",
    "\n"
   ]
  },
  {
   "cell_type": "code",
   "execution_count": 44,
   "metadata": {},
   "outputs": [
    {
     "data": {
      "text/plain": [
       "tensor([[0., 0., 0., 0., 0., 0.],\n",
       "        [0., 0., 0., 0., 0., 0.],\n",
       "        [0., 0., 0., 0., 0., 0.],\n",
       "        [0., 0., 0., 0., 0., 0.],\n",
       "        [0., 0., 0., 0., 0., 0.]])"
      ]
     },
     "execution_count": 44,
     "metadata": {},
     "output_type": "execute_result"
    }
   ],
   "source": [
    "j = torch.zeros(5,6)\n",
    "j"
   ]
  },
  {
   "cell_type": "code",
   "execution_count": 45,
   "metadata": {},
   "outputs": [
    {
     "name": "stdout",
     "output_type": "stream",
     "text": [
      "tensor([[[[0., 0., 0., 0., 0., 0.],\n",
      "          [0., 0., 0., 0., 0., 0.],\n",
      "          [0., 0., 0., 0., 0., 0.],\n",
      "          [0., 0., 0., 0., 0., 0.],\n",
      "          [0., 0., 0., 0., 0., 0.]],\n",
      "\n",
      "         [[0., 0., 0., 0., 0., 0.],\n",
      "          [0., 0., 0., 0., 0., 0.],\n",
      "          [0., 0., 0., 0., 0., 0.],\n",
      "          [0., 0., 0., 0., 0., 0.],\n",
      "          [0., 0., 0., 0., 0., 0.]],\n",
      "\n",
      "         [[0., 0., 0., 0., 0., 0.],\n",
      "          [0., 0., 0., 0., 0., 0.],\n",
      "          [0., 0., 0., 0., 0., 0.],\n",
      "          [0., 0., 0., 0., 0., 0.],\n",
      "          [0., 0., 0., 0., 0., 0.]],\n",
      "\n",
      "         [[0., 0., 0., 0., 0., 0.],\n",
      "          [0., 0., 0., 0., 0., 0.],\n",
      "          [0., 0., 0., 0., 0., 0.],\n",
      "          [0., 0., 0., 0., 0., 0.],\n",
      "          [0., 0., 0., 0., 0., 0.]]],\n",
      "\n",
      "\n",
      "        [[[0., 0., 0., 0., 0., 0.],\n",
      "          [0., 0., 0., 0., 0., 0.],\n",
      "          [0., 0., 0., 0., 0., 0.],\n",
      "          [0., 0., 0., 0., 0., 0.],\n",
      "          [0., 0., 0., 0., 0., 0.]],\n",
      "\n",
      "         [[0., 0., 0., 0., 0., 0.],\n",
      "          [0., 0., 0., 0., 0., 0.],\n",
      "          [0., 0., 0., 0., 0., 0.],\n",
      "          [0., 0., 0., 0., 0., 0.],\n",
      "          [0., 0., 0., 0., 0., 0.]],\n",
      "\n",
      "         [[0., 0., 0., 0., 0., 0.],\n",
      "          [0., 0., 0., 0., 0., 0.],\n",
      "          [0., 0., 0., 0., 0., 0.],\n",
      "          [0., 0., 0., 0., 0., 0.],\n",
      "          [0., 0., 0., 0., 0., 0.]],\n",
      "\n",
      "         [[0., 0., 0., 0., 0., 0.],\n",
      "          [0., 0., 0., 0., 0., 0.],\n",
      "          [0., 0., 0., 0., 0., 0.],\n",
      "          [0., 0., 0., 0., 0., 0.],\n",
      "          [0., 0., 0., 0., 0., 0.]]],\n",
      "\n",
      "\n",
      "        [[[0., 0., 0., 0., 0., 0.],\n",
      "          [0., 0., 0., 0., 0., 0.],\n",
      "          [0., 0., 0., 0., 0., 0.],\n",
      "          [0., 0., 0., 0., 0., 0.],\n",
      "          [0., 0., 0., 0., 0., 0.]],\n",
      "\n",
      "         [[0., 0., 0., 0., 0., 0.],\n",
      "          [0., 0., 0., 0., 0., 0.],\n",
      "          [0., 0., 0., 0., 0., 0.],\n",
      "          [0., 0., 0., 0., 0., 0.],\n",
      "          [0., 0., 0., 0., 0., 0.]],\n",
      "\n",
      "         [[0., 0., 0., 0., 0., 0.],\n",
      "          [0., 0., 0., 0., 0., 0.],\n",
      "          [0., 0., 0., 0., 0., 0.],\n",
      "          [0., 0., 0., 0., 0., 0.],\n",
      "          [0., 0., 0., 0., 0., 0.]],\n",
      "\n",
      "         [[0., 0., 0., 0., 0., 0.],\n",
      "          [0., 0., 0., 0., 0., 0.],\n",
      "          [0., 0., 0., 0., 0., 0.],\n",
      "          [0., 0., 0., 0., 0., 0.],\n",
      "          [0., 0., 0., 0., 0., 0.]]]])\n"
     ]
    }
   ],
   "source": [
    "t = torch.ones(3,4, 5,6)\n",
    "t.shape\n",
    "f = t * j\n",
    "print(f)"
   ]
  },
  {
   "cell_type": "code",
   "execution_count": 54,
   "metadata": {},
   "outputs": [
    {
     "data": {
      "text/plain": [
       "tensor([[0., 0.]], grad_fn=<EmbeddingBackward0>)"
      ]
     },
     "execution_count": 54,
     "metadata": {},
     "output_type": "execute_result"
    }
   ],
   "source": [
    "l = nn.Embedding(10,2, padding_idx=5)\n",
    "l(torch.tensor([5]))"
   ]
  },
  {
   "cell_type": "code",
   "execution_count": 8,
   "metadata": {},
   "outputs": [
    {
     "data": {
      "text/plain": [
       "tensor([[1., 1., 1., 1., 1.],\n",
       "        [1., 1., 1., 1., 1.],\n",
       "        [1., 1., 1., 1., 1.]])"
      ]
     },
     "execution_count": 8,
     "metadata": {},
     "output_type": "execute_result"
    }
   ],
   "source": [
    "f = torch.ones(3,5)\n",
    "f\n",
    "\n"
   ]
  },
  {
   "cell_type": "code",
   "execution_count": 9,
   "metadata": {},
   "outputs": [
    {
     "data": {
      "text/plain": [
       "tensor([[[1., 1., 1., 1., 1.],\n",
       "         [1., 1., 1., 1., 1.],\n",
       "         [1., 1., 1., 1., 1.]],\n",
       "\n",
       "        [[1., 1., 1., 1., 1.],\n",
       "         [1., 1., 1., 1., 1.],\n",
       "         [1., 1., 1., 1., 1.]],\n",
       "\n",
       "        [[1., 1., 1., 1., 1.],\n",
       "         [1., 1., 1., 1., 1.],\n",
       "         [1., 1., 1., 1., 1.]],\n",
       "\n",
       "        [[1., 1., 1., 1., 1.],\n",
       "         [1., 1., 1., 1., 1.],\n",
       "         [1., 1., 1., 1., 1.]]])"
      ]
     },
     "execution_count": 9,
     "metadata": {},
     "output_type": "execute_result"
    }
   ],
   "source": [
    "j = torch.ones(4, 3,5)\n",
    "j\n",
    "\n"
   ]
  },
  {
   "cell_type": "code",
   "execution_count": 10,
   "metadata": {},
   "outputs": [
    {
     "data": {
      "text/plain": [
       "tensor([[[2., 2., 2., 2., 2.],\n",
       "         [2., 2., 2., 2., 2.],\n",
       "         [2., 2., 2., 2., 2.]],\n",
       "\n",
       "        [[2., 2., 2., 2., 2.],\n",
       "         [2., 2., 2., 2., 2.],\n",
       "         [2., 2., 2., 2., 2.]],\n",
       "\n",
       "        [[2., 2., 2., 2., 2.],\n",
       "         [2., 2., 2., 2., 2.],\n",
       "         [2., 2., 2., 2., 2.]],\n",
       "\n",
       "        [[2., 2., 2., 2., 2.],\n",
       "         [2., 2., 2., 2., 2.],\n",
       "         [2., 2., 2., 2., 2.]]])"
      ]
     },
     "execution_count": 10,
     "metadata": {},
     "output_type": "execute_result"
    }
   ],
   "source": [
    "f + j"
   ]
  }
 ],
 "metadata": {
  "kernelspec": {
   "display_name": "Python 3",
   "language": "python",
   "name": "python3"
  },
  "language_info": {
   "codemirror_mode": {
    "name": "ipython",
    "version": 3
   },
   "file_extension": ".py",
   "mimetype": "text/x-python",
   "name": "python",
   "nbconvert_exporter": "python",
   "pygments_lexer": "ipython3",
   "version": "3.10.12"
  },
  "orig_nbformat": 4
 },
 "nbformat": 4,
 "nbformat_minor": 2
}
